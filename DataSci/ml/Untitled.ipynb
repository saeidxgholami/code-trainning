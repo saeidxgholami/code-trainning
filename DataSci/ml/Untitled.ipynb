{
 "cells": [
  {
   "cell_type": "code",
   "execution_count": 48,
   "metadata": {},
   "outputs": [
    {
     "data": {
      "text/plain": [
       "(10.822707476718083, array([12, 11,  2,  0,  2]), 12)"
      ]
     },
     "execution_count": 48,
     "metadata": {},
     "output_type": "execute_result"
    }
   ],
   "source": [
    "import pandas as pd\n",
    "import numpy as np\n",
    "import sklearn\n",
    "\n",
    "from sklearn import linear_model\n",
    "\n",
    "\n",
    "sk.linear_model\n",
    "df = pd.read_csv('student-mat.csv', sep=';')\n",
    "\n",
    "features = df[['G1', 'G2', 'G3', 'studytime', 'failures', 'absences']]\n",
    "\n",
    "predict = 'G3'\n",
    "\n",
    "x = np.array(features.drop([predict], 1))\n",
    "y = np.array(features[predict])\n",
    "\n",
    "\n",
    "# I don't understand what is the train test split why we do this? does this line train something? we don't have\n",
    "# ml algo how trainning poosiable?\n",
    "x_train, x_test, y_train, y_test = sklearn.model_selection.train_test_split(x, y, test_size=0.1)\n",
    "\n",
    "linear = linear_model.LinearRegression()\n",
    "linear.fit(x_train, y_train)\n",
    "\n",
    "acc = linear.score(x_test, y_test)\n",
    "\n",
    "predictions = linear.predict(x_test)\n",
    "\n",
    "predictions[0], x_test[0], y_test[0]\n",
    "\n",
    "\n"
   ]
  },
  {
   "cell_type": "code",
   "execution_count": 54,
   "metadata": {},
   "outputs": [
    {
     "data": {
      "text/plain": [
       "(8.368111362301, array([10,  9,  2,  1,  3]), 9)"
      ]
     },
     "execution_count": 54,
     "metadata": {},
     "output_type": "execute_result"
    }
   ],
   "source": [
    "val_x = np.array([[1, 1, 0, 0, 2], [10, 9, 2, 1, 3]])\n",
    "val_y = [1, 9]\n",
    "\n",
    "predictions = linear.predict(val_x)\n",
    "predictions[0], val_x[0], val_y[0]\n",
    "predictions[1], val_x[1], val_y[1]\n"
   ]
  }
 ],
 "metadata": {
  "kernelspec": {
   "display_name": "Python 3",
   "language": "python",
   "name": "python3"
  },
  "language_info": {
   "codemirror_mode": {
    "name": "ipython",
    "version": 3
   },
   "file_extension": ".py",
   "mimetype": "text/x-python",
   "name": "python",
   "nbconvert_exporter": "python",
   "pygments_lexer": "ipython3",
   "version": "3.8.2"
  }
 },
 "nbformat": 4,
 "nbformat_minor": 4
}
